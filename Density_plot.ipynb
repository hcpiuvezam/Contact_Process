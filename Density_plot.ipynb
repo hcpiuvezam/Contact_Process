{
 "cells": [
  {
   "cell_type": "markdown",
   "metadata": {},
   "source": [
    "# Time Decay in the 1D Contact Process"
   ]
  },
  {
   "cell_type": "markdown",
   "metadata": {},
   "source": [
    "## Reproducing Figure 6.4\n",
    " *Nonequilibrium Phase Transitions in Lattice Models*\n",
    " **Joaquin Marro and Ronald Dickman**"
   ]
  },
  {
   "cell_type": "code",
   "execution_count": 45,
   "metadata": {},
   "outputs": [],
   "source": [
    "import numpy as np\n",
    "import matplotlib.pyplot as plt\n",
    "from matplotlib.ticker import ScalarFormatter\n",
    "\n",
    "plt.rcParams['font.size'] = 15\n",
    "\n",
    "data = {} # Creates an empty dictionary to store the data\n",
    "lamb = 3.298\n",
    "L_vec = [20, 50, 100, 200]\n",
    "for L in L_vec:\n",
    "    data[L] = np.loadtxt('CP_density_decay_L_{0}_lambda_{1:.3f}.dat'.format(L, lamb), unpack = True)"
   ]
  },
  {
   "cell_type": "code",
   "execution_count": 53,
   "metadata": {},
   "outputs": [
    {
     "data": {
      "image/png": "[encoded data removed]",
      "text/plain": [
       "<Figure size 432x288 with 1 Axes>"
      ]
     },
     "metadata": {
      "needs_background": "light"
     },
     "output_type": "display_data"
    }
   ],
   "source": [
    "for key, value in data.items():\n",
    "    step = 1 / key\n",
    "    t = np.arange(0, len(value[0]) * step, step)\n",
    "    plt.plot(t, value[0], 'k,')\n",
    "# Plotting the auxiliary line\n",
    "t = np.arange(step, 20, step)\n",
    "plt.plot(t, 0.7 * t ** (- 0.16), 'k-.')\n",
    "# loglog\n",
    "plt.xscale('log')\n",
    "plt.yscale('log')\n",
    "# Ticks for y axis\n",
    "plt.gca().yaxis.set_major_formatter(ScalarFormatter())\n",
    "plt.gca().yaxis.set_minor_formatter(ScalarFormatter())\n",
    "plt.gca().yaxis.set_minor_locator(plt.MaxNLocator(1))\n",
    "# Labeling the axis\n",
    "plt.xlabel('t')\n",
    "plt.ylabel(r'$\\rho$')\n",
    "# Starting at t = 1 and rho = 1.\n",
    "plt.xlim(left = 1.)\n",
    "plt.ylim(top = 1., bottom = 0.2)\n",
    "\n",
    "plt.show()"
   ]
  },
  {
   "cell_type": "code",
   "execution_count": null,
   "metadata": {},
   "outputs": [],
   "source": []
  }
 ],
 "metadata": {
  "kernelspec": {
   "display_name": "Python 3.9.7 ('base')",
   "language": "python",
   "name": "python3"
  },
  "language_info": {
   "codemirror_mode": {
    "name": "ipython",
    "version": 3
   },
   "file_extension": ".py",
   "mimetype": "text/x-python",
   "name": "python",
   "nbconvert_exporter": "python",
   "pygments_lexer": "ipython3",
   "version": "3.9.7"
  },
  "orig_nbformat": 4,
  "vscode": {
   "interpreter": {
    "hash": "1a487aa1b221f8ad072aba5e3a559903c19fbf29a746e6172447d0735362d7e1"
   }
  }
 },
 "nbformat": 4,
 "nbformat_minor": 2
}
